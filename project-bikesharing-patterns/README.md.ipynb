{
 "cells": [
  {
   "cell_type": "markdown",
   "id": "9a67c466",
   "metadata": {},
   "source": [
    "# Predicting Bike Sharing \n",
    "   By Leena Abdullah AlQasem"
   ]
  },
  {
   "cell_type": "markdown",
   "id": "366c7555",
   "metadata": {},
   "source": [
    "Neural Network to predict the number of bikeshare users on a given day.\n",
    "\n",
    "First Neural Network Introduction In this project, you'll get to build a neural network from scratch to carry out a prediction problem on a real dataset! By building a neural network from the ground up, you'll have a much better understanding of gradient descent, backpropagation, and other concepts that are important to know before we move to higher level tools such as Tensorflow. You'll also get to see how to apply these networks to solve real prediction problems!\n",
    "\n",
    "The data comes from the UCI Machine Learning Database."
   ]
  },
  {
   "cell_type": "markdown",
   "id": "70a483d1",
   "metadata": {},
   "source": [
    "* Deep Learning Nano-degree program by udacity :)"
   ]
  }
 ],
 "metadata": {
  "kernelspec": {
   "display_name": "Python 3",
   "language": "python",
   "name": "python3"
  },
  "language_info": {
   "codemirror_mode": {
    "name": "ipython",
    "version": 3
   },
   "file_extension": ".py",
   "mimetype": "text/x-python",
   "name": "python",
   "nbconvert_exporter": "python",
   "pygments_lexer": "ipython3",
   "version": "3.7.10"
  }
 },
 "nbformat": 4,
 "nbformat_minor": 5
}
